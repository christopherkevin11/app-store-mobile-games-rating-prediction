{
 "cells": [
  {
   "cell_type": "markdown",
   "metadata": {},
   "source": [
    "<h1>App Store Mobile Games Rating Prediction</h1>\n",
    "    "
   ]
  },
  {
   "cell_type": "markdown",
   "metadata": {},
   "source": [
    "Pada Notebook ini, saya ingin melakukan prediksi rata-rata rating aplikasi Strategy Mobile Games yang terdapat pada App Store, yang akan saya bandingkan dengan jumlah user, harga, pembelian dalam aplikasi (in-app purchases), ukuran aplikasi, serta genre."
   ]
  },
  {
   "cell_type": "markdown",
   "metadata": {},
   "source": [
    "<h2>Menyiapkan Dataset untuk EDA</h2>"
   ]
  },
  {
   "cell_type": "markdown",
   "metadata": {},
   "source": [
    "Pertama, import library yang digunakan untuk mengolah dataset. Selanjutnya, menggunakan fungsi dari pandas, import CSV dari dataset yang ingin diprediksi."
   ]
  },
  {
   "cell_type": "code",
   "execution_count": 384,
   "metadata": {},
   "outputs": [
    {
     "data": {
      "text/html": [
       "<div>\n",
       "<style scoped>\n",
       "    .dataframe tbody tr th:only-of-type {\n",
       "        vertical-align: middle;\n",
       "    }\n",
       "\n",
       "    .dataframe tbody tr th {\n",
       "        vertical-align: top;\n",
       "    }\n",
       "\n",
       "    .dataframe thead th {\n",
       "        text-align: right;\n",
       "    }\n",
       "</style>\n",
       "<table border=\"1\" class=\"dataframe\">\n",
       "  <thead>\n",
       "    <tr style=\"text-align: right;\">\n",
       "      <th></th>\n",
       "      <th>URL</th>\n",
       "      <th>ID</th>\n",
       "      <th>Name</th>\n",
       "      <th>Subtitle</th>\n",
       "      <th>Icon URL</th>\n",
       "      <th>Average User Rating</th>\n",
       "      <th>User Rating Count</th>\n",
       "      <th>Price</th>\n",
       "      <th>In-app Purchases</th>\n",
       "      <th>Description</th>\n",
       "      <th>Developer</th>\n",
       "      <th>Age Rating</th>\n",
       "      <th>Languages</th>\n",
       "      <th>Size</th>\n",
       "      <th>Primary Genre</th>\n",
       "      <th>Genres</th>\n",
       "      <th>Original Release Date</th>\n",
       "      <th>Current Version Release Date</th>\n",
       "    </tr>\n",
       "  </thead>\n",
       "  <tbody>\n",
       "    <tr>\n",
       "      <th>0</th>\n",
       "      <td>https://apps.apple.com/us/app/sudoku/id284921427</td>\n",
       "      <td>284921427</td>\n",
       "      <td>Sudoku</td>\n",
       "      <td>NaN</td>\n",
       "      <td>https://is2-ssl.mzstatic.com/image/thumb/Purpl...</td>\n",
       "      <td>4.0</td>\n",
       "      <td>3553.0</td>\n",
       "      <td>2.99</td>\n",
       "      <td>NaN</td>\n",
       "      <td>Join over 21,000,000 of our fans and download ...</td>\n",
       "      <td>Mighty Mighty Good Games</td>\n",
       "      <td>4+</td>\n",
       "      <td>DA, NL, EN, FI, FR, DE, IT, JA, KO, NB, PL, PT...</td>\n",
       "      <td>15853568.0</td>\n",
       "      <td>Games</td>\n",
       "      <td>Games, Strategy, Puzzle</td>\n",
       "      <td>11/07/2008</td>\n",
       "      <td>30/05/2017</td>\n",
       "    </tr>\n",
       "    <tr>\n",
       "      <th>1</th>\n",
       "      <td>https://apps.apple.com/us/app/reversi/id284926400</td>\n",
       "      <td>284926400</td>\n",
       "      <td>Reversi</td>\n",
       "      <td>NaN</td>\n",
       "      <td>https://is4-ssl.mzstatic.com/image/thumb/Purpl...</td>\n",
       "      <td>3.5</td>\n",
       "      <td>284.0</td>\n",
       "      <td>1.99</td>\n",
       "      <td>NaN</td>\n",
       "      <td>The classic game of Reversi, also known as Oth...</td>\n",
       "      <td>Kiss The Machine</td>\n",
       "      <td>4+</td>\n",
       "      <td>EN</td>\n",
       "      <td>12328960.0</td>\n",
       "      <td>Games</td>\n",
       "      <td>Games, Strategy, Board</td>\n",
       "      <td>11/07/2008</td>\n",
       "      <td>17/05/2018</td>\n",
       "    </tr>\n",
       "    <tr>\n",
       "      <th>2</th>\n",
       "      <td>https://apps.apple.com/us/app/morocco/id284946595</td>\n",
       "      <td>284946595</td>\n",
       "      <td>Morocco</td>\n",
       "      <td>NaN</td>\n",
       "      <td>https://is5-ssl.mzstatic.com/image/thumb/Purpl...</td>\n",
       "      <td>3.0</td>\n",
       "      <td>8376.0</td>\n",
       "      <td>0.00</td>\n",
       "      <td>NaN</td>\n",
       "      <td>Play the classic strategy game Othello (also k...</td>\n",
       "      <td>Bayou Games</td>\n",
       "      <td>4+</td>\n",
       "      <td>EN</td>\n",
       "      <td>674816.0</td>\n",
       "      <td>Games</td>\n",
       "      <td>Games, Board, Strategy</td>\n",
       "      <td>11/07/2008</td>\n",
       "      <td>5/09/2017</td>\n",
       "    </tr>\n",
       "    <tr>\n",
       "      <th>3</th>\n",
       "      <td>https://apps.apple.com/us/app/sudoku-free/id28...</td>\n",
       "      <td>285755462</td>\n",
       "      <td>Sudoku (Free)</td>\n",
       "      <td>NaN</td>\n",
       "      <td>https://is3-ssl.mzstatic.com/image/thumb/Purpl...</td>\n",
       "      <td>3.5</td>\n",
       "      <td>190394.0</td>\n",
       "      <td>0.00</td>\n",
       "      <td>NaN</td>\n",
       "      <td>Top 100 free app for over a year.\\nRated \"Best...</td>\n",
       "      <td>Mighty Mighty Good Games</td>\n",
       "      <td>4+</td>\n",
       "      <td>DA, NL, EN, FI, FR, DE, IT, JA, KO, NB, PL, PT...</td>\n",
       "      <td>21552128.0</td>\n",
       "      <td>Games</td>\n",
       "      <td>Games, Strategy, Puzzle</td>\n",
       "      <td>23/07/2008</td>\n",
       "      <td>30/05/2017</td>\n",
       "    </tr>\n",
       "    <tr>\n",
       "      <th>4</th>\n",
       "      <td>https://apps.apple.com/us/app/senet-deluxe/id2...</td>\n",
       "      <td>285831220</td>\n",
       "      <td>Senet Deluxe</td>\n",
       "      <td>NaN</td>\n",
       "      <td>https://is1-ssl.mzstatic.com/image/thumb/Purpl...</td>\n",
       "      <td>3.5</td>\n",
       "      <td>28.0</td>\n",
       "      <td>2.99</td>\n",
       "      <td>NaN</td>\n",
       "      <td>\"Senet Deluxe - The Ancient Game of Life and A...</td>\n",
       "      <td>RoGame Software</td>\n",
       "      <td>4+</td>\n",
       "      <td>DA, NL, EN, FR, DE, EL, IT, JA, KO, NO, PT, RU...</td>\n",
       "      <td>34689024.0</td>\n",
       "      <td>Games</td>\n",
       "      <td>Games, Strategy, Board, Education</td>\n",
       "      <td>18/07/2008</td>\n",
       "      <td>22/07/2018</td>\n",
       "    </tr>\n",
       "  </tbody>\n",
       "</table>\n",
       "</div>"
      ],
      "text/plain": [
       "                                                 URL         ID  \\\n",
       "0   https://apps.apple.com/us/app/sudoku/id284921427  284921427   \n",
       "1  https://apps.apple.com/us/app/reversi/id284926400  284926400   \n",
       "2  https://apps.apple.com/us/app/morocco/id284946595  284946595   \n",
       "3  https://apps.apple.com/us/app/sudoku-free/id28...  285755462   \n",
       "4  https://apps.apple.com/us/app/senet-deluxe/id2...  285831220   \n",
       "\n",
       "            Name Subtitle                                           Icon URL  \\\n",
       "0         Sudoku      NaN  https://is2-ssl.mzstatic.com/image/thumb/Purpl...   \n",
       "1        Reversi      NaN  https://is4-ssl.mzstatic.com/image/thumb/Purpl...   \n",
       "2        Morocco      NaN  https://is5-ssl.mzstatic.com/image/thumb/Purpl...   \n",
       "3  Sudoku (Free)      NaN  https://is3-ssl.mzstatic.com/image/thumb/Purpl...   \n",
       "4   Senet Deluxe      NaN  https://is1-ssl.mzstatic.com/image/thumb/Purpl...   \n",
       "\n",
       "   Average User Rating  User Rating Count  Price In-app Purchases  \\\n",
       "0                  4.0             3553.0   2.99              NaN   \n",
       "1                  3.5              284.0   1.99              NaN   \n",
       "2                  3.0             8376.0   0.00              NaN   \n",
       "3                  3.5           190394.0   0.00              NaN   \n",
       "4                  3.5               28.0   2.99              NaN   \n",
       "\n",
       "                                         Description  \\\n",
       "0  Join over 21,000,000 of our fans and download ...   \n",
       "1  The classic game of Reversi, also known as Oth...   \n",
       "2  Play the classic strategy game Othello (also k...   \n",
       "3  Top 100 free app for over a year.\\nRated \"Best...   \n",
       "4  \"Senet Deluxe - The Ancient Game of Life and A...   \n",
       "\n",
       "                  Developer Age Rating  \\\n",
       "0  Mighty Mighty Good Games         4+   \n",
       "1          Kiss The Machine         4+   \n",
       "2               Bayou Games         4+   \n",
       "3  Mighty Mighty Good Games         4+   \n",
       "4           RoGame Software         4+   \n",
       "\n",
       "                                           Languages        Size  \\\n",
       "0  DA, NL, EN, FI, FR, DE, IT, JA, KO, NB, PL, PT...  15853568.0   \n",
       "1                                                 EN  12328960.0   \n",
       "2                                                 EN    674816.0   \n",
       "3  DA, NL, EN, FI, FR, DE, IT, JA, KO, NB, PL, PT...  21552128.0   \n",
       "4  DA, NL, EN, FR, DE, EL, IT, JA, KO, NO, PT, RU...  34689024.0   \n",
       "\n",
       "  Primary Genre                             Genres Original Release Date  \\\n",
       "0         Games            Games, Strategy, Puzzle            11/07/2008   \n",
       "1         Games             Games, Strategy, Board            11/07/2008   \n",
       "2         Games             Games, Board, Strategy            11/07/2008   \n",
       "3         Games            Games, Strategy, Puzzle            23/07/2008   \n",
       "4         Games  Games, Strategy, Board, Education            18/07/2008   \n",
       "\n",
       "  Current Version Release Date  \n",
       "0                   30/05/2017  \n",
       "1                   17/05/2018  \n",
       "2                    5/09/2017  \n",
       "3                   30/05/2017  \n",
       "4                   22/07/2018  "
      ]
     },
     "execution_count": 384,
     "metadata": {},
     "output_type": "execute_result"
    }
   ],
   "source": [
    "# import libraries\n",
    "import pandas as pd\n",
    "import numpy as np\n",
    "import matplotlib.pyplot as plt\n",
    "import seaborn as sns\n",
    "\n",
    "# save Dataset to variable df\n",
    "df = pd.read_csv('appstore_games.csv')\n",
    "df.head()"
   ]
  },
  {
   "cell_type": "markdown",
   "metadata": {},
   "source": [
    "Setelah dipastikan bahwa import CSV berhasil, saya ingin melakukan pembersihan dataset. Saya ingin mengetahui kolom apa saja yang ada di dataset, serta jumlah row yang memiliki data kosong (NaN)."
   ]
  },
  {
   "cell_type": "code",
   "execution_count": 385,
   "metadata": {},
   "outputs": [
    {
     "data": {
      "text/plain": [
       "URL                                 0\n",
       "ID                                  0\n",
       "Name                                0\n",
       "Subtitle                        11746\n",
       "Icon URL                            0\n",
       "Average User Rating              9446\n",
       "User Rating Count                9446\n",
       "Price                              24\n",
       "In-app Purchases                 9324\n",
       "Description                         0\n",
       "Developer                           0\n",
       "Age Rating                          0\n",
       "Languages                          60\n",
       "Size                                1\n",
       "Primary Genre                       0\n",
       "Genres                              0\n",
       "Original Release Date               0\n",
       "Current Version Release Date        0\n",
       "dtype: int64"
      ]
     },
     "execution_count": 385,
     "metadata": {},
     "output_type": "execute_result"
    }
   ],
   "source": [
    "df.isna().sum()"
   ]
  },
  {
   "cell_type": "markdown",
   "metadata": {},
   "source": [
    "Selanjutnya saya menghilangkan beberapa kolom yang tidak berkaitan dengan penelitian saya. Sebagian besar kolom yang saya drop adalah kolom yang bersifat deskriptif. Saya hanya akan menyisakan kolom rata-rata rating, jumlah user rating, harga, pembelian dalam aplikasi (in-app purchases), ukuran aplikasi, serta genre."
   ]
  },
  {
   "cell_type": "code",
   "execution_count": 386,
   "metadata": {},
   "outputs": [
    {
     "name": "stdout",
     "output_type": "stream",
     "text": [
      "    Average User Rating  User Rating Count  Price  \\\n",
      "5                   3.0               47.0    0.0   \n",
      "15                  3.0              112.0    0.0   \n",
      "16                  3.0              112.0    0.0   \n",
      "18                  3.5            95971.0    0.0   \n",
      "19                  3.5              357.0    0.0   \n",
      "\n",
      "                            In-app Purchases         Size  \\\n",
      "5                                       1.99   48672768.0   \n",
      "15                                      0.99  122826752.0   \n",
      "16                                      0.99  122826752.0   \n",
      "18  1.99, 0.99, 1.99, 0.99, 4.99, 1.99, 1.99   26820692.0   \n",
      "19                          0.99, 0.99, 0.99   52236288.0   \n",
      "\n",
      "                                    Genres  \n",
      "5   Games, Entertainment, Strategy, Puzzle  \n",
      "15                  Games, Strategy, Board  \n",
      "16                  Games, Strategy, Board  \n",
      "18                 Games, Puzzle, Strategy  \n",
      "19  Games, Strategy, Puzzle, Entertainment  \n"
     ]
    }
   ],
   "source": [
    "df = df.drop(['URL', 'ID', 'Name', 'Age Rating', 'Subtitle', 'Icon URL', 'Description', 'Developer', 'Languages', 'Primary Genre', 'Original Release Date', 'Current Version Release Date'], axis=1)\n",
    "df_filter = df.dropna()\n",
    "print(df_filter.head())"
   ]
  },
  {
   "cell_type": "markdown",
   "metadata": {},
   "source": [
    "Oke, dataframe kita sekarang berisikan angka yang dapat dijadikan nilai untuk prediksi, KECUALI In-app Purchases dan Genres. Oleh karena itu, dua variabel ini harus dijadikan value yang dapat dijadikan nilai prediksi dengan cara encoding."
   ]
  },
  {
   "cell_type": "markdown",
   "metadata": {},
   "source": [
    "<h3> Genres encoding </h3>"
   ]
  },
  {
   "cell_type": "markdown",
   "metadata": {},
   "source": [
    "Saya melakukan encoding dengan metode One-Hot Encoding, karena dalam satu row dapat memiliki banyak value yang dapat di-grouping. Saya memulai One-Hot Encoding pada variabel Genres.\n",
    "\n",
    "Waktunya melakukan string splitting dari label-label value yang ada di Genres."
   ]
  },
  {
   "cell_type": "code",
   "execution_count": 387,
   "metadata": {},
   "outputs": [
    {
     "data": {
      "text/plain": [
       "5        [Games, Entertainment, Strategy, Puzzle]\n",
       "15                       [Games, Strategy, Board]\n",
       "16                       [Games, Strategy, Board]\n",
       "18                      [Games, Puzzle, Strategy]\n",
       "19       [Games, Strategy, Puzzle, Entertainment]\n",
       "                           ...                   \n",
       "16828                   [Games, Puzzle, Strategy]\n",
       "16842                   [Games, Action, Strategy]\n",
       "16856               [Games, Simulation, Strategy]\n",
       "16863                    [Games, Board, Strategy]\n",
       "16932         [Utilities, Games, Board, Strategy]\n",
       "Name: Genres, Length: 4634, dtype: object"
      ]
     },
     "execution_count": 387,
     "metadata": {},
     "output_type": "execute_result"
    }
   ],
   "source": [
    "genres = df_filter['Genres'].str.split(', ')\n",
    "genres"
   ]
  },
  {
   "cell_type": "markdown",
   "metadata": {},
   "source": [
    "Menggunakan fungsi MultiLabelBinarizer dari library sklearn, saya mengumpulkan grouping label-label yang ada di Genres. Inti dari encoding adalah mengubah setiap label yang berformat string menjadi biner. Setiap label akan menjadi kolom baru dengan value biner dalam sebuah DataFrame baru."
   ]
  },
  {
   "cell_type": "code",
   "execution_count": 388,
   "metadata": {},
   "outputs": [
    {
     "data": {
      "text/html": [
       "<div>\n",
       "<style scoped>\n",
       "    .dataframe tbody tr th:only-of-type {\n",
       "        vertical-align: middle;\n",
       "    }\n",
       "\n",
       "    .dataframe tbody tr th {\n",
       "        vertical-align: top;\n",
       "    }\n",
       "\n",
       "    .dataframe thead th {\n",
       "        text-align: right;\n",
       "    }\n",
       "</style>\n",
       "<table border=\"1\" class=\"dataframe\">\n",
       "  <thead>\n",
       "    <tr style=\"text-align: right;\">\n",
       "      <th></th>\n",
       "      <th>Action</th>\n",
       "      <th>Adventure</th>\n",
       "      <th>Board</th>\n",
       "      <th>Books</th>\n",
       "      <th>Business</th>\n",
       "      <th>Card</th>\n",
       "      <th>Casino</th>\n",
       "      <th>Casual</th>\n",
       "      <th>Education</th>\n",
       "      <th>Entertainment</th>\n",
       "      <th>...</th>\n",
       "      <th>Reference</th>\n",
       "      <th>Role Playing</th>\n",
       "      <th>Simulation</th>\n",
       "      <th>Social Networking</th>\n",
       "      <th>Sports</th>\n",
       "      <th>Strategy</th>\n",
       "      <th>Travel</th>\n",
       "      <th>Trivia</th>\n",
       "      <th>Utilities</th>\n",
       "      <th>Word</th>\n",
       "    </tr>\n",
       "  </thead>\n",
       "  <tbody>\n",
       "    <tr>\n",
       "      <th>0</th>\n",
       "      <td>0</td>\n",
       "      <td>0</td>\n",
       "      <td>0</td>\n",
       "      <td>0</td>\n",
       "      <td>0</td>\n",
       "      <td>0</td>\n",
       "      <td>0</td>\n",
       "      <td>0</td>\n",
       "      <td>0</td>\n",
       "      <td>1</td>\n",
       "      <td>...</td>\n",
       "      <td>0</td>\n",
       "      <td>0</td>\n",
       "      <td>0</td>\n",
       "      <td>0</td>\n",
       "      <td>0</td>\n",
       "      <td>1</td>\n",
       "      <td>0</td>\n",
       "      <td>0</td>\n",
       "      <td>0</td>\n",
       "      <td>0</td>\n",
       "    </tr>\n",
       "    <tr>\n",
       "      <th>1</th>\n",
       "      <td>0</td>\n",
       "      <td>0</td>\n",
       "      <td>1</td>\n",
       "      <td>0</td>\n",
       "      <td>0</td>\n",
       "      <td>0</td>\n",
       "      <td>0</td>\n",
       "      <td>0</td>\n",
       "      <td>0</td>\n",
       "      <td>0</td>\n",
       "      <td>...</td>\n",
       "      <td>0</td>\n",
       "      <td>0</td>\n",
       "      <td>0</td>\n",
       "      <td>0</td>\n",
       "      <td>0</td>\n",
       "      <td>1</td>\n",
       "      <td>0</td>\n",
       "      <td>0</td>\n",
       "      <td>0</td>\n",
       "      <td>0</td>\n",
       "    </tr>\n",
       "    <tr>\n",
       "      <th>2</th>\n",
       "      <td>0</td>\n",
       "      <td>0</td>\n",
       "      <td>1</td>\n",
       "      <td>0</td>\n",
       "      <td>0</td>\n",
       "      <td>0</td>\n",
       "      <td>0</td>\n",
       "      <td>0</td>\n",
       "      <td>0</td>\n",
       "      <td>0</td>\n",
       "      <td>...</td>\n",
       "      <td>0</td>\n",
       "      <td>0</td>\n",
       "      <td>0</td>\n",
       "      <td>0</td>\n",
       "      <td>0</td>\n",
       "      <td>1</td>\n",
       "      <td>0</td>\n",
       "      <td>0</td>\n",
       "      <td>0</td>\n",
       "      <td>0</td>\n",
       "    </tr>\n",
       "    <tr>\n",
       "      <th>3</th>\n",
       "      <td>0</td>\n",
       "      <td>0</td>\n",
       "      <td>0</td>\n",
       "      <td>0</td>\n",
       "      <td>0</td>\n",
       "      <td>0</td>\n",
       "      <td>0</td>\n",
       "      <td>0</td>\n",
       "      <td>0</td>\n",
       "      <td>0</td>\n",
       "      <td>...</td>\n",
       "      <td>0</td>\n",
       "      <td>0</td>\n",
       "      <td>0</td>\n",
       "      <td>0</td>\n",
       "      <td>0</td>\n",
       "      <td>1</td>\n",
       "      <td>0</td>\n",
       "      <td>0</td>\n",
       "      <td>0</td>\n",
       "      <td>0</td>\n",
       "    </tr>\n",
       "    <tr>\n",
       "      <th>4</th>\n",
       "      <td>0</td>\n",
       "      <td>0</td>\n",
       "      <td>0</td>\n",
       "      <td>0</td>\n",
       "      <td>0</td>\n",
       "      <td>0</td>\n",
       "      <td>0</td>\n",
       "      <td>0</td>\n",
       "      <td>0</td>\n",
       "      <td>1</td>\n",
       "      <td>...</td>\n",
       "      <td>0</td>\n",
       "      <td>0</td>\n",
       "      <td>0</td>\n",
       "      <td>0</td>\n",
       "      <td>0</td>\n",
       "      <td>1</td>\n",
       "      <td>0</td>\n",
       "      <td>0</td>\n",
       "      <td>0</td>\n",
       "      <td>0</td>\n",
       "    </tr>\n",
       "  </tbody>\n",
       "</table>\n",
       "<p>5 rows × 35 columns</p>\n",
       "</div>"
      ],
      "text/plain": [
       "   Action  Adventure  Board  Books  Business  Card  Casino  Casual  Education  \\\n",
       "0       0          0      0      0         0     0       0       0          0   \n",
       "1       0          0      1      0         0     0       0       0          0   \n",
       "2       0          0      1      0         0     0       0       0          0   \n",
       "3       0          0      0      0         0     0       0       0          0   \n",
       "4       0          0      0      0         0     0       0       0          0   \n",
       "\n",
       "   Entertainment  ...  Reference  Role Playing  Simulation  Social Networking  \\\n",
       "0              1  ...          0             0           0                  0   \n",
       "1              0  ...          0             0           0                  0   \n",
       "2              0  ...          0             0           0                  0   \n",
       "3              0  ...          0             0           0                  0   \n",
       "4              1  ...          0             0           0                  0   \n",
       "\n",
       "   Sports  Strategy  Travel  Trivia  Utilities  Word  \n",
       "0       0         1       0       0          0     0  \n",
       "1       0         1       0       0          0     0  \n",
       "2       0         1       0       0          0     0  \n",
       "3       0         1       0       0          0     0  \n",
       "4       0         1       0       0          0     0  \n",
       "\n",
       "[5 rows x 35 columns]"
      ]
     },
     "execution_count": 388,
     "metadata": {},
     "output_type": "execute_result"
    }
   ],
   "source": [
    "from sklearn.preprocessing import MultiLabelBinarizer\n",
    "\n",
    "\n",
    "# Convert labels string to binaries\n",
    "\n",
    "mlb = MultiLabelBinarizer()\n",
    "expandedLabelData = mlb.fit_transform(df_filter['Genres'].str.split(', '))\n",
    "labelClasses = mlb.classes_\n",
    "\n",
    "# Create a DataFrame from our output\n",
    "df_Labels = pd.DataFrame(expandedLabelData, columns=labelClasses)\n",
    "df_Labels.head()"
   ]
  },
  {
   "cell_type": "markdown",
   "metadata": {},
   "source": [
    "DataFrame yang baru ini kemudian akan digabungkan ke dalam DataFrame utama dengan metode concatenate. "
   ]
  },
  {
   "cell_type": "code",
   "execution_count": 389,
   "metadata": {},
   "outputs": [
    {
     "data": {
      "text/html": [
       "<div>\n",
       "<style scoped>\n",
       "    .dataframe tbody tr th:only-of-type {\n",
       "        vertical-align: middle;\n",
       "    }\n",
       "\n",
       "    .dataframe tbody tr th {\n",
       "        vertical-align: top;\n",
       "    }\n",
       "\n",
       "    .dataframe thead th {\n",
       "        text-align: right;\n",
       "    }\n",
       "</style>\n",
       "<table border=\"1\" class=\"dataframe\">\n",
       "  <thead>\n",
       "    <tr style=\"text-align: right;\">\n",
       "      <th></th>\n",
       "      <th>Average User Rating</th>\n",
       "      <th>User Rating Count</th>\n",
       "      <th>Price</th>\n",
       "      <th>In-app Purchases</th>\n",
       "      <th>Size</th>\n",
       "      <th>Genres</th>\n",
       "      <th>Action</th>\n",
       "      <th>Adventure</th>\n",
       "      <th>Board</th>\n",
       "      <th>Books</th>\n",
       "      <th>...</th>\n",
       "      <th>Reference</th>\n",
       "      <th>Role Playing</th>\n",
       "      <th>Simulation</th>\n",
       "      <th>Social Networking</th>\n",
       "      <th>Sports</th>\n",
       "      <th>Strategy</th>\n",
       "      <th>Travel</th>\n",
       "      <th>Trivia</th>\n",
       "      <th>Utilities</th>\n",
       "      <th>Word</th>\n",
       "    </tr>\n",
       "  </thead>\n",
       "  <tbody>\n",
       "    <tr>\n",
       "      <th>0</th>\n",
       "      <td>3.0</td>\n",
       "      <td>47.0</td>\n",
       "      <td>0.0</td>\n",
       "      <td>1.99</td>\n",
       "      <td>48672768.0</td>\n",
       "      <td>Games, Entertainment, Strategy, Puzzle</td>\n",
       "      <td>0</td>\n",
       "      <td>0</td>\n",
       "      <td>0</td>\n",
       "      <td>0</td>\n",
       "      <td>...</td>\n",
       "      <td>0</td>\n",
       "      <td>0</td>\n",
       "      <td>0</td>\n",
       "      <td>0</td>\n",
       "      <td>0</td>\n",
       "      <td>1</td>\n",
       "      <td>0</td>\n",
       "      <td>0</td>\n",
       "      <td>0</td>\n",
       "      <td>0</td>\n",
       "    </tr>\n",
       "    <tr>\n",
       "      <th>1</th>\n",
       "      <td>3.0</td>\n",
       "      <td>112.0</td>\n",
       "      <td>0.0</td>\n",
       "      <td>0.99</td>\n",
       "      <td>122826752.0</td>\n",
       "      <td>Games, Strategy, Board</td>\n",
       "      <td>0</td>\n",
       "      <td>0</td>\n",
       "      <td>1</td>\n",
       "      <td>0</td>\n",
       "      <td>...</td>\n",
       "      <td>0</td>\n",
       "      <td>0</td>\n",
       "      <td>0</td>\n",
       "      <td>0</td>\n",
       "      <td>0</td>\n",
       "      <td>1</td>\n",
       "      <td>0</td>\n",
       "      <td>0</td>\n",
       "      <td>0</td>\n",
       "      <td>0</td>\n",
       "    </tr>\n",
       "    <tr>\n",
       "      <th>2</th>\n",
       "      <td>3.0</td>\n",
       "      <td>112.0</td>\n",
       "      <td>0.0</td>\n",
       "      <td>0.99</td>\n",
       "      <td>122826752.0</td>\n",
       "      <td>Games, Strategy, Board</td>\n",
       "      <td>0</td>\n",
       "      <td>0</td>\n",
       "      <td>1</td>\n",
       "      <td>0</td>\n",
       "      <td>...</td>\n",
       "      <td>0</td>\n",
       "      <td>0</td>\n",
       "      <td>0</td>\n",
       "      <td>0</td>\n",
       "      <td>0</td>\n",
       "      <td>1</td>\n",
       "      <td>0</td>\n",
       "      <td>0</td>\n",
       "      <td>0</td>\n",
       "      <td>0</td>\n",
       "    </tr>\n",
       "    <tr>\n",
       "      <th>3</th>\n",
       "      <td>3.5</td>\n",
       "      <td>95971.0</td>\n",
       "      <td>0.0</td>\n",
       "      <td>1.99, 0.99, 1.99, 0.99, 4.99, 1.99, 1.99</td>\n",
       "      <td>26820692.0</td>\n",
       "      <td>Games, Puzzle, Strategy</td>\n",
       "      <td>0</td>\n",
       "      <td>0</td>\n",
       "      <td>0</td>\n",
       "      <td>0</td>\n",
       "      <td>...</td>\n",
       "      <td>0</td>\n",
       "      <td>0</td>\n",
       "      <td>0</td>\n",
       "      <td>0</td>\n",
       "      <td>0</td>\n",
       "      <td>1</td>\n",
       "      <td>0</td>\n",
       "      <td>0</td>\n",
       "      <td>0</td>\n",
       "      <td>0</td>\n",
       "    </tr>\n",
       "    <tr>\n",
       "      <th>4</th>\n",
       "      <td>3.5</td>\n",
       "      <td>357.0</td>\n",
       "      <td>0.0</td>\n",
       "      <td>0.99, 0.99, 0.99</td>\n",
       "      <td>52236288.0</td>\n",
       "      <td>Games, Strategy, Puzzle, Entertainment</td>\n",
       "      <td>0</td>\n",
       "      <td>0</td>\n",
       "      <td>0</td>\n",
       "      <td>0</td>\n",
       "      <td>...</td>\n",
       "      <td>0</td>\n",
       "      <td>0</td>\n",
       "      <td>0</td>\n",
       "      <td>0</td>\n",
       "      <td>0</td>\n",
       "      <td>1</td>\n",
       "      <td>0</td>\n",
       "      <td>0</td>\n",
       "      <td>0</td>\n",
       "      <td>0</td>\n",
       "    </tr>\n",
       "  </tbody>\n",
       "</table>\n",
       "<p>5 rows × 41 columns</p>\n",
       "</div>"
      ],
      "text/plain": [
       "   Average User Rating  User Rating Count  Price  \\\n",
       "0                  3.0               47.0    0.0   \n",
       "1                  3.0              112.0    0.0   \n",
       "2                  3.0              112.0    0.0   \n",
       "3                  3.5            95971.0    0.0   \n",
       "4                  3.5              357.0    0.0   \n",
       "\n",
       "                           In-app Purchases         Size  \\\n",
       "0                                      1.99   48672768.0   \n",
       "1                                      0.99  122826752.0   \n",
       "2                                      0.99  122826752.0   \n",
       "3  1.99, 0.99, 1.99, 0.99, 4.99, 1.99, 1.99   26820692.0   \n",
       "4                          0.99, 0.99, 0.99   52236288.0   \n",
       "\n",
       "                                   Genres  Action  Adventure  Board  Books  \\\n",
       "0  Games, Entertainment, Strategy, Puzzle       0          0      0      0   \n",
       "1                  Games, Strategy, Board       0          0      1      0   \n",
       "2                  Games, Strategy, Board       0          0      1      0   \n",
       "3                 Games, Puzzle, Strategy       0          0      0      0   \n",
       "4  Games, Strategy, Puzzle, Entertainment       0          0      0      0   \n",
       "\n",
       "   ...  Reference  Role Playing  Simulation  Social Networking  Sports  \\\n",
       "0  ...          0             0           0                  0       0   \n",
       "1  ...          0             0           0                  0       0   \n",
       "2  ...          0             0           0                  0       0   \n",
       "3  ...          0             0           0                  0       0   \n",
       "4  ...          0             0           0                  0       0   \n",
       "\n",
       "   Strategy  Travel  Trivia  Utilities  Word  \n",
       "0         1       0       0          0     0  \n",
       "1         1       0       0          0     0  \n",
       "2         1       0       0          0     0  \n",
       "3         1       0       0          0     0  \n",
       "4         1       0       0          0     0  \n",
       "\n",
       "[5 rows x 41 columns]"
      ]
     },
     "execution_count": 389,
     "metadata": {},
     "output_type": "execute_result"
    }
   ],
   "source": [
    "df = pd.concat([df_filter.reset_index(drop=True),df_Labels.reset_index(drop=True)], axis=1)\n",
    "df.head()"
   ]
  },
  {
   "cell_type": "markdown",
   "metadata": {},
   "source": [
    "Dibawah ini adalah visualisasi dari Genres."
   ]
  },
  {
   "cell_type": "code",
   "execution_count": 390,
   "metadata": {},
   "outputs": [
    {
     "data": {
      "image/png": "[encoded data removed]",
      "text/plain": [
       "<Figure size 1800x360 with 1 Axes>"
      ]
     },
     "metadata": {
      "needs_background": "light"
     },
     "output_type": "display_data"
    }
   ],
   "source": [
    "categories = list(df_Labels.columns.values)\n",
    "plt.figure(figsize=(25,5))\n",
    "ax = sns.barplot(categories, df_Labels.sum().values, palette='plasma')\n",
    "ax.set_xticklabels(ax.get_xticklabels(), rotation='50', ha=\"right\");"
   ]
  },
  {
   "cell_type": "markdown",
   "metadata": {},
   "source": [
    "Dapat dilihat bahwa genre Games, Strategy dan Entertainment mendominasi Genres. Namun jika dipertimbangkan lagi, DataSet yang kita gunakan berisikan aplikasi mobile games strategi, jadi tentu saja umum. Saya akan menghilangkan 3 genre teratas untuk visualisasi, sehingga dapat memberikan kesempatan bagi Genres yang lain."
   ]
  },
  {
   "cell_type": "code",
   "execution_count": 391,
   "metadata": {},
   "outputs": [
    {
     "data": {
      "image/png": "[encoded data removed]",
      "text/plain": [
       "<Figure size 1800x360 with 1 Axes>"
      ]
     },
     "metadata": {
      "needs_background": "light"
     },
     "output_type": "display_data"
    }
   ],
   "source": [
    "df_Labels_dropped = df_Labels.drop([\"Strategy\", \"Games\", \"Entertainment\"], axis=1)\n",
    "categories = list(df_Labels_dropped.columns.values)\n",
    "plt.figure(figsize=(25,5))\n",
    "ax = sns.barplot(categories, df_Labels_dropped.sum().values, palette='plasma')\n",
    "ax.set_xticklabels(ax.get_xticklabels(), rotation='25', ha=\"right\");"
   ]
  },
  {
   "cell_type": "markdown",
   "metadata": {},
   "source": [
    "<h3> In-App Purchases encoding </h3>"
   ]
  },
  {
   "cell_type": "markdown",
   "metadata": {},
   "source": [
    "Usai melakukan encoding kolom Genres, selanjutnya adalah melakukan encoding pada kolom in-app purchases, karena satu row IAP bisa memiliki lebih dari satu label harga."
   ]
  },
  {
   "cell_type": "code",
   "execution_count": 392,
   "metadata": {},
   "outputs": [
    {
     "data": {
      "text/html": [
       "<div>\n",
       "<style scoped>\n",
       "    .dataframe tbody tr th:only-of-type {\n",
       "        vertical-align: middle;\n",
       "    }\n",
       "\n",
       "    .dataframe tbody tr th {\n",
       "        vertical-align: top;\n",
       "    }\n",
       "\n",
       "    .dataframe thead th {\n",
       "        text-align: right;\n",
       "    }\n",
       "</style>\n",
       "<table border=\"1\" class=\"dataframe\">\n",
       "  <thead>\n",
       "    <tr style=\"text-align: right;\">\n",
       "      <th></th>\n",
       "      <th>0</th>\n",
       "      <th>0.0</th>\n",
       "      <th>0.99</th>\n",
       "      <th>1.49</th>\n",
       "      <th>1.99</th>\n",
       "      <th>10.99</th>\n",
       "      <th>109.99</th>\n",
       "      <th>11.99</th>\n",
       "      <th>119.99</th>\n",
       "      <th>12.99</th>\n",
       "      <th>...</th>\n",
       "      <th>74.99</th>\n",
       "      <th>79.99</th>\n",
       "      <th>8.49</th>\n",
       "      <th>8.99</th>\n",
       "      <th>84.99</th>\n",
       "      <th>89.99</th>\n",
       "      <th>9.49</th>\n",
       "      <th>9.99</th>\n",
       "      <th>94.99</th>\n",
       "      <th>99.99</th>\n",
       "    </tr>\n",
       "  </thead>\n",
       "  <tbody>\n",
       "    <tr>\n",
       "      <th>0</th>\n",
       "      <td>0</td>\n",
       "      <td>0</td>\n",
       "      <td>0</td>\n",
       "      <td>0</td>\n",
       "      <td>1</td>\n",
       "      <td>0</td>\n",
       "      <td>0</td>\n",
       "      <td>0</td>\n",
       "      <td>0</td>\n",
       "      <td>0</td>\n",
       "      <td>...</td>\n",
       "      <td>0</td>\n",
       "      <td>0</td>\n",
       "      <td>0</td>\n",
       "      <td>0</td>\n",
       "      <td>0</td>\n",
       "      <td>0</td>\n",
       "      <td>0</td>\n",
       "      <td>0</td>\n",
       "      <td>0</td>\n",
       "      <td>0</td>\n",
       "    </tr>\n",
       "    <tr>\n",
       "      <th>1</th>\n",
       "      <td>0</td>\n",
       "      <td>0</td>\n",
       "      <td>1</td>\n",
       "      <td>0</td>\n",
       "      <td>0</td>\n",
       "      <td>0</td>\n",
       "      <td>0</td>\n",
       "      <td>0</td>\n",
       "      <td>0</td>\n",
       "      <td>0</td>\n",
       "      <td>...</td>\n",
       "      <td>0</td>\n",
       "      <td>0</td>\n",
       "      <td>0</td>\n",
       "      <td>0</td>\n",
       "      <td>0</td>\n",
       "      <td>0</td>\n",
       "      <td>0</td>\n",
       "      <td>0</td>\n",
       "      <td>0</td>\n",
       "      <td>0</td>\n",
       "    </tr>\n",
       "    <tr>\n",
       "      <th>2</th>\n",
       "      <td>0</td>\n",
       "      <td>0</td>\n",
       "      <td>1</td>\n",
       "      <td>0</td>\n",
       "      <td>0</td>\n",
       "      <td>0</td>\n",
       "      <td>0</td>\n",
       "      <td>0</td>\n",
       "      <td>0</td>\n",
       "      <td>0</td>\n",
       "      <td>...</td>\n",
       "      <td>0</td>\n",
       "      <td>0</td>\n",
       "      <td>0</td>\n",
       "      <td>0</td>\n",
       "      <td>0</td>\n",
       "      <td>0</td>\n",
       "      <td>0</td>\n",
       "      <td>0</td>\n",
       "      <td>0</td>\n",
       "      <td>0</td>\n",
       "    </tr>\n",
       "    <tr>\n",
       "      <th>3</th>\n",
       "      <td>0</td>\n",
       "      <td>0</td>\n",
       "      <td>1</td>\n",
       "      <td>0</td>\n",
       "      <td>1</td>\n",
       "      <td>0</td>\n",
       "      <td>0</td>\n",
       "      <td>0</td>\n",
       "      <td>0</td>\n",
       "      <td>0</td>\n",
       "      <td>...</td>\n",
       "      <td>0</td>\n",
       "      <td>0</td>\n",
       "      <td>0</td>\n",
       "      <td>0</td>\n",
       "      <td>0</td>\n",
       "      <td>0</td>\n",
       "      <td>0</td>\n",
       "      <td>0</td>\n",
       "      <td>0</td>\n",
       "      <td>0</td>\n",
       "    </tr>\n",
       "    <tr>\n",
       "      <th>4</th>\n",
       "      <td>0</td>\n",
       "      <td>0</td>\n",
       "      <td>1</td>\n",
       "      <td>0</td>\n",
       "      <td>0</td>\n",
       "      <td>0</td>\n",
       "      <td>0</td>\n",
       "      <td>0</td>\n",
       "      <td>0</td>\n",
       "      <td>0</td>\n",
       "      <td>...</td>\n",
       "      <td>0</td>\n",
       "      <td>0</td>\n",
       "      <td>0</td>\n",
       "      <td>0</td>\n",
       "      <td>0</td>\n",
       "      <td>0</td>\n",
       "      <td>0</td>\n",
       "      <td>0</td>\n",
       "      <td>0</td>\n",
       "      <td>0</td>\n",
       "    </tr>\n",
       "  </tbody>\n",
       "</table>\n",
       "<p>5 rows × 77 columns</p>\n",
       "</div>"
      ],
      "text/plain": [
       "   0  0.0  0.99  1.49  1.99  10.99  109.99  11.99  119.99  12.99  ...  74.99  \\\n",
       "0  0    0     0     0     1      0       0      0       0      0  ...      0   \n",
       "1  0    0     1     0     0      0       0      0       0      0  ...      0   \n",
       "2  0    0     1     0     0      0       0      0       0      0  ...      0   \n",
       "3  0    0     1     0     1      0       0      0       0      0  ...      0   \n",
       "4  0    0     1     0     0      0       0      0       0      0  ...      0   \n",
       "\n",
       "   79.99  8.49  8.99  84.99  89.99  9.49  9.99  94.99  99.99  \n",
       "0      0     0     0      0      0     0     0      0      0  \n",
       "1      0     0     0      0      0     0     0      0      0  \n",
       "2      0     0     0      0      0     0     0      0      0  \n",
       "3      0     0     0      0      0     0     0      0      0  \n",
       "4      0     0     0      0      0     0     0      0      0  \n",
       "\n",
       "[5 rows x 77 columns]"
      ]
     },
     "execution_count": 392,
     "metadata": {},
     "output_type": "execute_result"
    }
   ],
   "source": [
    "mlb_inapp = MultiLabelBinarizer()\n",
    "df_Label_Data = mlb_inapp.fit_transform(df['In-app Purchases'].str.split(', '))\n",
    "labelClasses = mlb_inapp.classes_\n",
    "\n",
    "# Create a pandas.DataFrame from our output\n",
    "df_Labels = pd.DataFrame(df_Label_Data, columns=labelClasses)\n",
    "df_Labels.head()"
   ]
  },
  {
   "cell_type": "markdown",
   "metadata": {},
   "source": [
    "Dibawah ini adalah visualisasi dari In-Game Purchases."
   ]
  },
  {
   "cell_type": "code",
   "execution_count": 393,
   "metadata": {},
   "outputs": [
    {
     "data": {
      "image/png": "[encoded data removed]",
      "text/plain": [
       "<Figure size 1800x360 with 1 Axes>"
      ]
     },
     "metadata": {
      "needs_background": "light"
     },
     "output_type": "display_data"
    }
   ],
   "source": [
    "df_prices = df_Labels.sum().sort_values(ascending=False)[:30]\n",
    "plt.figure(figsize=(25,5))\n",
    "sns.barplot(df_prices.index, df_prices.values, palette='plasma')\n",
    "plt.show()"
   ]
  },
  {
   "cell_type": "code",
   "execution_count": 394,
   "metadata": {},
   "outputs": [],
   "source": [
    "df = pd.concat([df.reset_index(drop=True),df_Labels.reset_index(drop=True)], axis=1)\n",
    "\n",
    "y = df['Average User Rating']"
   ]
  },
  {
   "cell_type": "code",
   "execution_count": 395,
   "metadata": {},
   "outputs": [
    {
     "name": "stdout",
     "output_type": "stream",
     "text": [
      "   Average User Rating  User Rating Count  Price  \\\n",
      "0                  3.0               47.0    0.0   \n",
      "1                  3.0              112.0    0.0   \n",
      "2                  3.0              112.0    0.0   \n",
      "3                  3.5            95971.0    0.0   \n",
      "4                  3.5              357.0    0.0   \n",
      "\n",
      "                           In-app Purchases         Size  \\\n",
      "0                                      1.99   48672768.0   \n",
      "1                                      0.99  122826752.0   \n",
      "2                                      0.99  122826752.0   \n",
      "3  1.99, 0.99, 1.99, 0.99, 4.99, 1.99, 1.99   26820692.0   \n",
      "4                          0.99, 0.99, 0.99   52236288.0   \n",
      "\n",
      "                                   Genres  Action  Adventure  Board  Books  \\\n",
      "0  Games, Entertainment, Strategy, Puzzle       0          0      0      0   \n",
      "1                  Games, Strategy, Board       0          0      1      0   \n",
      "2                  Games, Strategy, Board       0          0      1      0   \n",
      "3                 Games, Puzzle, Strategy       0          0      0      0   \n",
      "4  Games, Strategy, Puzzle, Entertainment       0          0      0      0   \n",
      "\n",
      "   ...  74.99  79.99  8.49  8.99  84.99  89.99  9.49  9.99  94.99  99.99  \n",
      "0  ...      0      0     0     0      0      0     0     0      0      0  \n",
      "1  ...      0      0     0     0      0      0     0     0      0      0  \n",
      "2  ...      0      0     0     0      0      0     0     0      0      0  \n",
      "3  ...      0      0     0     0      0      0     0     0      0      0  \n",
      "4  ...      0      0     0     0      0      0     0     0      0      0  \n",
      "\n",
      "[5 rows x 118 columns]\n"
     ]
    }
   ],
   "source": [
    "print(df.head())"
   ]
  },
  {
   "cell_type": "markdown",
   "metadata": {},
   "source": [
    "Dibawah ini visualisasi dari dependent variable kita, yakni Average User Rating."
   ]
  },
  {
   "cell_type": "code",
   "execution_count": 396,
   "metadata": {},
   "outputs": [
    {
     "data": {
      "text/plain": [
       "<matplotlib.axes._subplots.AxesSubplot at 0x7f43a5c79e90>"
      ]
     },
     "execution_count": 396,
     "metadata": {},
     "output_type": "execute_result"
    },
    {
     "data": {
      "image/png": "[encoded data removed]",
      "text/plain": [
       "<Figure size 1080x360 with 1 Axes>"
      ]
     },
     "metadata": {
      "needs_background": "light"
     },
     "output_type": "display_data"
    }
   ],
   "source": [
    "plt.figure(figsize=(15,5))\n",
    "sns.distplot(y, hist=True, kde=False, bins=9, color='orange',  hist_kws={'edgecolor':'#000000'})"
   ]
  },
  {
   "cell_type": "markdown",
   "metadata": {},
   "source": [
    "Dan dibawah adalah visualisasi dari independent variable selain Genres dan In-App Purchases yang telah divisualisasikan diatas."
   ]
  },
  {
   "cell_type": "code",
   "execution_count": 397,
   "metadata": {},
   "outputs": [
    {
     "data": {
      "text/plain": [
       "<seaborn.axisgrid.PairGrid at 0x7f43a55ac850>"
      ]
     },
     "execution_count": 397,
     "metadata": {},
     "output_type": "execute_result"
    },
    {
     "data": {
      "image/png": "[encoded data removed]",
      "text/plain": [
       "<Figure size 1058.4x504 with 3 Axes>"
      ]
     },
     "metadata": {
      "needs_background": "light"
     },
     "output_type": "display_data"
    }
   ],
   "source": [
    "sns.pairplot(df, x_vars=['User Rating Count','Price','Size'], y_vars=['Average User Rating'], height=7, aspect=0.7)"
   ]
  },
  {
   "cell_type": "markdown",
   "metadata": {},
   "source": [
    "Sebelum masuk ke bagian prediksi rating, ada baiknya untuk menghapus kolom yang telah kita encode, yakni In-App Purchases dan Genres. Juga jangan lupa menghapus kolom Average User Rating karena telah disimpan di variabel y, serta untuk menjaga agar df hanya berisikan variable independent."
   ]
  },
  {
   "cell_type": "code",
   "execution_count": 398,
   "metadata": {},
   "outputs": [
    {
     "data": {
      "text/html": [
       "<div>\n",
       "<style scoped>\n",
       "    .dataframe tbody tr th:only-of-type {\n",
       "        vertical-align: middle;\n",
       "    }\n",
       "\n",
       "    .dataframe tbody tr th {\n",
       "        vertical-align: top;\n",
       "    }\n",
       "\n",
       "    .dataframe thead th {\n",
       "        text-align: right;\n",
       "    }\n",
       "</style>\n",
       "<table border=\"1\" class=\"dataframe\">\n",
       "  <thead>\n",
       "    <tr style=\"text-align: right;\">\n",
       "      <th></th>\n",
       "      <th>User Rating Count</th>\n",
       "      <th>Price</th>\n",
       "      <th>Size</th>\n",
       "      <th>Action</th>\n",
       "      <th>Adventure</th>\n",
       "      <th>Board</th>\n",
       "      <th>Books</th>\n",
       "      <th>Business</th>\n",
       "      <th>Card</th>\n",
       "      <th>Casino</th>\n",
       "      <th>...</th>\n",
       "      <th>74.99</th>\n",
       "      <th>79.99</th>\n",
       "      <th>8.49</th>\n",
       "      <th>8.99</th>\n",
       "      <th>84.99</th>\n",
       "      <th>89.99</th>\n",
       "      <th>9.49</th>\n",
       "      <th>9.99</th>\n",
       "      <th>94.99</th>\n",
       "      <th>99.99</th>\n",
       "    </tr>\n",
       "  </thead>\n",
       "  <tbody>\n",
       "    <tr>\n",
       "      <th>0</th>\n",
       "      <td>47.0</td>\n",
       "      <td>0.0</td>\n",
       "      <td>48672768.0</td>\n",
       "      <td>0</td>\n",
       "      <td>0</td>\n",
       "      <td>0</td>\n",
       "      <td>0</td>\n",
       "      <td>0</td>\n",
       "      <td>0</td>\n",
       "      <td>0</td>\n",
       "      <td>...</td>\n",
       "      <td>0</td>\n",
       "      <td>0</td>\n",
       "      <td>0</td>\n",
       "      <td>0</td>\n",
       "      <td>0</td>\n",
       "      <td>0</td>\n",
       "      <td>0</td>\n",
       "      <td>0</td>\n",
       "      <td>0</td>\n",
       "      <td>0</td>\n",
       "    </tr>\n",
       "    <tr>\n",
       "      <th>1</th>\n",
       "      <td>112.0</td>\n",
       "      <td>0.0</td>\n",
       "      <td>122826752.0</td>\n",
       "      <td>0</td>\n",
       "      <td>0</td>\n",
       "      <td>1</td>\n",
       "      <td>0</td>\n",
       "      <td>0</td>\n",
       "      <td>0</td>\n",
       "      <td>0</td>\n",
       "      <td>...</td>\n",
       "      <td>0</td>\n",
       "      <td>0</td>\n",
       "      <td>0</td>\n",
       "      <td>0</td>\n",
       "      <td>0</td>\n",
       "      <td>0</td>\n",
       "      <td>0</td>\n",
       "      <td>0</td>\n",
       "      <td>0</td>\n",
       "      <td>0</td>\n",
       "    </tr>\n",
       "    <tr>\n",
       "      <th>2</th>\n",
       "      <td>112.0</td>\n",
       "      <td>0.0</td>\n",
       "      <td>122826752.0</td>\n",
       "      <td>0</td>\n",
       "      <td>0</td>\n",
       "      <td>1</td>\n",
       "      <td>0</td>\n",
       "      <td>0</td>\n",
       "      <td>0</td>\n",
       "      <td>0</td>\n",
       "      <td>...</td>\n",
       "      <td>0</td>\n",
       "      <td>0</td>\n",
       "      <td>0</td>\n",
       "      <td>0</td>\n",
       "      <td>0</td>\n",
       "      <td>0</td>\n",
       "      <td>0</td>\n",
       "      <td>0</td>\n",
       "      <td>0</td>\n",
       "      <td>0</td>\n",
       "    </tr>\n",
       "    <tr>\n",
       "      <th>3</th>\n",
       "      <td>95971.0</td>\n",
       "      <td>0.0</td>\n",
       "      <td>26820692.0</td>\n",
       "      <td>0</td>\n",
       "      <td>0</td>\n",
       "      <td>0</td>\n",
       "      <td>0</td>\n",
       "      <td>0</td>\n",
       "      <td>0</td>\n",
       "      <td>0</td>\n",
       "      <td>...</td>\n",
       "      <td>0</td>\n",
       "      <td>0</td>\n",
       "      <td>0</td>\n",
       "      <td>0</td>\n",
       "      <td>0</td>\n",
       "      <td>0</td>\n",
       "      <td>0</td>\n",
       "      <td>0</td>\n",
       "      <td>0</td>\n",
       "      <td>0</td>\n",
       "    </tr>\n",
       "    <tr>\n",
       "      <th>4</th>\n",
       "      <td>357.0</td>\n",
       "      <td>0.0</td>\n",
       "      <td>52236288.0</td>\n",
       "      <td>0</td>\n",
       "      <td>0</td>\n",
       "      <td>0</td>\n",
       "      <td>0</td>\n",
       "      <td>0</td>\n",
       "      <td>0</td>\n",
       "      <td>0</td>\n",
       "      <td>...</td>\n",
       "      <td>0</td>\n",
       "      <td>0</td>\n",
       "      <td>0</td>\n",
       "      <td>0</td>\n",
       "      <td>0</td>\n",
       "      <td>0</td>\n",
       "      <td>0</td>\n",
       "      <td>0</td>\n",
       "      <td>0</td>\n",
       "      <td>0</td>\n",
       "    </tr>\n",
       "  </tbody>\n",
       "</table>\n",
       "<p>5 rows × 115 columns</p>\n",
       "</div>"
      ],
      "text/plain": [
       "   User Rating Count  Price         Size  Action  Adventure  Board  Books  \\\n",
       "0               47.0    0.0   48672768.0       0          0      0      0   \n",
       "1              112.0    0.0  122826752.0       0          0      1      0   \n",
       "2              112.0    0.0  122826752.0       0          0      1      0   \n",
       "3            95971.0    0.0   26820692.0       0          0      0      0   \n",
       "4              357.0    0.0   52236288.0       0          0      0      0   \n",
       "\n",
       "   Business  Card  Casino  ...  74.99  79.99  8.49  8.99  84.99  89.99  9.49  \\\n",
       "0         0     0       0  ...      0      0     0     0      0      0     0   \n",
       "1         0     0       0  ...      0      0     0     0      0      0     0   \n",
       "2         0     0       0  ...      0      0     0     0      0      0     0   \n",
       "3         0     0       0  ...      0      0     0     0      0      0     0   \n",
       "4         0     0       0  ...      0      0     0     0      0      0     0   \n",
       "\n",
       "   9.99  94.99  99.99  \n",
       "0     0      0      0  \n",
       "1     0      0      0  \n",
       "2     0      0      0  \n",
       "3     0      0      0  \n",
       "4     0      0      0  \n",
       "\n",
       "[5 rows x 115 columns]"
      ]
     },
     "execution_count": 398,
     "metadata": {},
     "output_type": "execute_result"
    }
   ],
   "source": [
    "df = df.drop(['Average User Rating', 'In-app Purchases', 'Genres'], axis=1)\n",
    "df.head()"
   ]
  },
  {
   "cell_type": "markdown",
   "metadata": {},
   "source": [
    "<h2> Average User Rating Prediction dengan Linear Regression menggunakan SKLearn</h2>"
   ]
  },
  {
   "cell_type": "markdown",
   "metadata": {},
   "source": [
    "Pertama saya menyiapkan DataFrame baru untuk menyimpan data-data training dan testing. Menggunakan Train Test Split, saya memisahkan dependent dan independent variable, serta memisahkan variable untuk train dan test. Lalu mengisi semua data yang kosong (NaN) dengan value 0."
   ]
  },
  {
   "cell_type": "code",
   "execution_count": 399,
   "metadata": {},
   "outputs": [],
   "source": [
    "from sklearn.model_selection import train_test_split\n",
    "\n",
    "# Splitting train and test data\n",
    "X_train, X_test, y_train, y_test = train_test_split(df, y, test_size=0.2, random_state=200)\n",
    "X_train = X_train.fillna(0)\n",
    "X_test = X_test.fillna(0)"
   ]
  },
  {
   "cell_type": "markdown",
   "metadata": {},
   "source": [
    "Selanjutnya, saya melakukan normalisasi data menggunakan library preprocessing dari sklearn. Kemudian, menggunakan kelas dari library LinearRegression sklearn untuk membuat model. Kemudian memasukkan model tersebut (fitting) ke dalam train data dan label, sehingga dapat memprediksi train dan test data, dimana kita bisa menghitung nilai RMSE (root mean squared error)."
   ]
  },
  {
   "cell_type": "code",
   "execution_count": 400,
   "metadata": {},
   "outputs": [
    {
     "name": "stdout",
     "output_type": "stream",
     "text": [
      "RMSE for training set is 0.643\n",
      "RMSE for testing set is 0.660\n"
     ]
    }
   ],
   "source": [
    "# import libraries from sklearn\n",
    "from sklearn.linear_model import LinearRegression\n",
    "from sklearn.metrics import mean_squared_error\n",
    "from sklearn import preprocessing\n",
    "\n",
    "# normalization\n",
    "X_train_preprocessed = preprocessing.normalize(X_train)\n",
    "X_test_preprocessed = preprocessing.normalize(X_test)\n",
    "\n",
    "# fitting\n",
    "linReg = LinearRegression()\n",
    "linReg.fit(X_train_preprocessed, y_train)\n",
    "\n",
    "# predicting\n",
    "y_train_predict = linReg.predict(X_train_preprocessed)\n",
    "\n",
    "# model evaluation for training set\n",
    "rmse = (np.sqrt(mean_squared_error(y_train, y_train_predict)))\n",
    "print('RMSE for training set is {:.3f}'.format(rmse))\n",
    "\n",
    "# model evaluation for testing set\n",
    "y_test_predict = linReg.predict(X_test_preprocessed)\n",
    "rmse = (np.sqrt(mean_squared_error(y_test, y_test_predict)))\n",
    "print('RMSE for testing set is {:.3f}'.format(rmse))"
   ]
  },
  {
   "cell_type": "markdown",
   "metadata": {},
   "source": [
    "Saya membuat dataFrame baru yang akan menyimpan perbandingan antara trained value dengan test value."
   ]
  },
  {
   "cell_type": "code",
   "execution_count": 401,
   "metadata": {},
   "outputs": [
    {
     "data": {
      "text/html": [
       "<div>\n",
       "<style scoped>\n",
       "    .dataframe tbody tr th:only-of-type {\n",
       "        vertical-align: middle;\n",
       "    }\n",
       "\n",
       "    .dataframe tbody tr th {\n",
       "        vertical-align: top;\n",
       "    }\n",
       "\n",
       "    .dataframe thead th {\n",
       "        text-align: right;\n",
       "    }\n",
       "</style>\n",
       "<table border=\"1\" class=\"dataframe\">\n",
       "  <thead>\n",
       "    <tr style=\"text-align: right;\">\n",
       "      <th></th>\n",
       "      <th>Actual</th>\n",
       "      <th>Predicted</th>\n",
       "    </tr>\n",
       "  </thead>\n",
       "  <tbody>\n",
       "    <tr>\n",
       "      <th>0</th>\n",
       "      <td>4.5</td>\n",
       "      <td>4.200222</td>\n",
       "    </tr>\n",
       "    <tr>\n",
       "      <th>1</th>\n",
       "      <td>4.5</td>\n",
       "      <td>3.850316</td>\n",
       "    </tr>\n",
       "    <tr>\n",
       "      <th>2</th>\n",
       "      <td>4.5</td>\n",
       "      <td>4.162707</td>\n",
       "    </tr>\n",
       "    <tr>\n",
       "      <th>3</th>\n",
       "      <td>4.5</td>\n",
       "      <td>3.812081</td>\n",
       "    </tr>\n",
       "    <tr>\n",
       "      <th>4</th>\n",
       "      <td>4.5</td>\n",
       "      <td>4.206765</td>\n",
       "    </tr>\n",
       "    <tr>\n",
       "      <th>5</th>\n",
       "      <td>5.0</td>\n",
       "      <td>4.192438</td>\n",
       "    </tr>\n",
       "    <tr>\n",
       "      <th>6</th>\n",
       "      <td>4.0</td>\n",
       "      <td>4.216507</td>\n",
       "    </tr>\n",
       "    <tr>\n",
       "      <th>7</th>\n",
       "      <td>3.5</td>\n",
       "      <td>3.854514</td>\n",
       "    </tr>\n",
       "    <tr>\n",
       "      <th>8</th>\n",
       "      <td>3.5</td>\n",
       "      <td>4.183214</td>\n",
       "    </tr>\n",
       "    <tr>\n",
       "      <th>9</th>\n",
       "      <td>4.5</td>\n",
       "      <td>4.312100</td>\n",
       "    </tr>\n",
       "  </tbody>\n",
       "</table>\n",
       "</div>"
      ],
      "text/plain": [
       "   Actual  Predicted\n",
       "0     4.5   4.200222\n",
       "1     4.5   3.850316\n",
       "2     4.5   4.162707\n",
       "3     4.5   3.812081\n",
       "4     4.5   4.206765\n",
       "5     5.0   4.192438\n",
       "6     4.0   4.216507\n",
       "7     3.5   3.854514\n",
       "8     3.5   4.183214\n",
       "9     4.5   4.312100"
      ]
     },
     "execution_count": 401,
     "metadata": {},
     "output_type": "execute_result"
    }
   ],
   "source": [
    "df_error = pd.DataFrame({'Actual': np.array(y_test).flatten(), 'Predicted': y_test_predict.flatten()})\n",
    "df_error.head(10)"
   ]
  },
  {
   "cell_type": "markdown",
   "metadata": {},
   "source": [
    "Dibawah ini adalah visualisasi dari dataFrame tersebut yang merupakan hasil Linear Regression, dimana saya menunjukkan perbandingan antara rating sesungguhnya dengan rating hasil prediksi."
   ]
  },
  {
   "cell_type": "code",
   "execution_count": 402,
   "metadata": {},
   "outputs": [
    {
     "data": {
      "image/png": "[encoded data removed]",
      "text/plain": [
       "<Figure size 1800x720 with 1 Axes>"
      ]
     },
     "metadata": {
      "needs_background": "light"
     },
     "output_type": "display_data"
    }
   ],
   "source": [
    "df_linreg = df_error[0:30]\n",
    "fig, ax = plt.subplots()\n",
    "df_linreg.plot(kind='bar',ax=ax, figsize=(25,10), color=['#d9455f', '#74d4c0'])\n",
    "ax.grid(axis='y')\n",
    "plt.ylabel('Average User Rating')\n",
    "plt.title(\"Comparison between actual data vs. predicted data on Average User Rating (top 30 row)\")\n",
    "plt.show(fig)"
   ]
  },
  {
   "cell_type": "markdown",
   "metadata": {},
   "source": [
    "Visualisasi tersebut menggambarkan akurasi dari value prediksi yang dapat dinilai dari RMSE 0.65. Mayoritas prediksi yang dihasilkan dari Linear Regression kita terletak di angka 4 sampai 4.5, karena memang mayoritas average user rating yang ada di dataset kita memiliki value tersebut.\n",
    "\n",
    "Mungkin, dengan menggunakan algoritma lain, kita dapat menekan angka RMSE."
   ]
  },
  {
   "cell_type": "markdown",
   "metadata": {},
   "source": [
    "<h2> Average User Rating Prediction dengan XGBoost Regressor</h2>"
   ]
  },
  {
   "cell_type": "markdown",
   "metadata": {},
   "source": [
    "Pertama saya mengimport library dari XGBoost. Saya bisa langsung membuat regressor dengan random parameter, namun saya ingin mengetahui parameter yang paling efektif yang dapat menghasilkan angka RMSE yang jauh lebih baik dari sebelumnya. Beberapa parameter dari xgb regressor adalah 'learning_rate', 'max_depth', 'n_estimators' dan 'num_boost_rounds'.\n",
    "\n",
    "Untuk itu saya menggunakan GridSearchCV untuk mencari parameter-parameter tersebut."
   ]
  },
  {
   "cell_type": "code",
   "execution_count": 403,
   "metadata": {},
   "outputs": [],
   "source": [
    "import xgboost as xgb\n",
    "from sklearn.model_selection import GridSearchCV\n",
    "\n",
    "params = {'learning_rate': [0.001, 0.01, 0.05, 0.1],\n",
    "          'max_depth' : [2, 4, 6, 8],\n",
    "          'n_estimators' : [100, 200, 300, 400, 500],\n",
    "          'num_boost_rounds' : [5, 10, 20]}"
   ]
  },
  {
   "cell_type": "markdown",
   "metadata": {},
   "source": [
    "GridSearchCV akan beriterasi melalui semua kombinasi parameter untuk menemukan mana value yang terbaik."
   ]
  },
  {
   "cell_type": "code",
   "execution_count": 404,
   "metadata": {},
   "outputs": [
    {
     "data": {
      "text/plain": [
       "'\\n%%time\\nxgr_opt = xgb.XGBRegressor(objective=\"reg:squarederror\",\\n                                 min_child_weight=1.5,\\n                                 tree_method=\\'gpu_hist\\')\\n\\ngrid = GridSearchCV(estimator=xgr_opt, scoring=\"neg_mean_squared_error\", param_grid = params, verbose=1, cv=3)\\ngrid.fit(X_train, y_train)\\n\\n# printing the best parameters\\nprint(grid.best_params_)\\n'"
      ]
     },
     "execution_count": 404,
     "metadata": {},
     "output_type": "execute_result"
    }
   ],
   "source": [
    "\"\"\"\n",
    "%%time\n",
    "xgr_opt = xgb.XGBRegressor(objective=\"reg:squarederror\",\n",
    "                                 min_child_weight=1.5,\n",
    "                                 tree_method='gpu_hist')\n",
    "\n",
    "grid = GridSearchCV(estimator=xgr_opt, scoring=\"neg_mean_squared_error\", param_grid = params, verbose=1, cv=3)\n",
    "grid.fit(X_train, y_train)\n",
    "\n",
    "# printing the best parameters\n",
    "print(grid.best_params_)\n",
    "\"\"\""
   ]
  },
  {
   "cell_type": "markdown",
   "metadata": {},
   "source": [
    "Saya tidak dapat menggunakan GridSearchCV karena akses Amazon SageMaker Studio saya tidak mengijinkan penggunaan GPU, dan untuk menggunakan CPU sangat memakan waktu; oleh karena itu saya menggunakan parameter random terlebih dahulu."
   ]
  },
  {
   "cell_type": "code",
   "execution_count": 405,
   "metadata": {},
   "outputs": [
    {
     "name": "stdout",
     "output_type": "stream",
     "text": [
      "RMSE for training set is 0.527\n",
      "RMSE for testing set is 0.598\n"
     ]
    }
   ],
   "source": [
    "xgr_best = xgb.XGBRegressor(learning_rate = 0.01, max_depth  = 6, n_estimators =  500, num_boost_rounds =  5,  min_child_weight=1.5)\n",
    "xgr_best.fit(X_train, y_train)\n",
    "\n",
    "# saving prediction of fitted XGBregressor\n",
    "train_pred = xgr_best.predict(data= X_train)\n",
    "test_pred = xgr_best.predict(data= X_test)\n",
    "\n",
    "# looking for mean squared error\n",
    "mse_train = mean_squared_error(y_train, train_pred)\n",
    "mse_test = mean_squared_error(y_test, test_pred)\n",
    "\n",
    "# prints out square root of MSE\n",
    "print('RMSE for training set is {:.3f}'.format(np.sqrt(mse_train)))\n",
    "print('RMSE for testing set is {:.3f}'.format(np.sqrt(mse_test)))"
   ]
  },
  {
   "cell_type": "markdown",
   "metadata": {},
   "source": [
    "Dapat dilihat bahwa angka RMSE dari XGBoost Regressor lebih rendah beberapa poin daripada angka RMSE dari Linear Regression. Beberapa poin ini menjadi selisih yang cukup besar apabila diterapkan. Saya percaya apabila GridSearchCV dijalankan maka kita dapat menemukan angka RMSE yang lebih rendah lagi.\n",
    "\n",
    "Sama seperti sebelumnya, saya membuat dataFrame baru yang akan menyimpan perbandingan antara trained value dengan test value."
   ]
  },
  {
   "cell_type": "code",
   "execution_count": 406,
   "metadata": {},
   "outputs": [
    {
     "data": {
      "text/html": [
       "<div>\n",
       "<style scoped>\n",
       "    .dataframe tbody tr th:only-of-type {\n",
       "        vertical-align: middle;\n",
       "    }\n",
       "\n",
       "    .dataframe tbody tr th {\n",
       "        vertical-align: top;\n",
       "    }\n",
       "\n",
       "    .dataframe thead th {\n",
       "        text-align: right;\n",
       "    }\n",
       "</style>\n",
       "<table border=\"1\" class=\"dataframe\">\n",
       "  <thead>\n",
       "    <tr style=\"text-align: right;\">\n",
       "      <th></th>\n",
       "      <th>Actual</th>\n",
       "      <th>Predicted</th>\n",
       "    </tr>\n",
       "  </thead>\n",
       "  <tbody>\n",
       "    <tr>\n",
       "      <th>0</th>\n",
       "      <td>4.5</td>\n",
       "      <td>4.465631</td>\n",
       "    </tr>\n",
       "    <tr>\n",
       "      <th>1</th>\n",
       "      <td>4.5</td>\n",
       "      <td>4.070120</td>\n",
       "    </tr>\n",
       "    <tr>\n",
       "      <th>2</th>\n",
       "      <td>4.5</td>\n",
       "      <td>4.427217</td>\n",
       "    </tr>\n",
       "    <tr>\n",
       "      <th>3</th>\n",
       "      <td>4.5</td>\n",
       "      <td>3.308061</td>\n",
       "    </tr>\n",
       "    <tr>\n",
       "      <th>4</th>\n",
       "      <td>4.5</td>\n",
       "      <td>4.371673</td>\n",
       "    </tr>\n",
       "    <tr>\n",
       "      <th>5</th>\n",
       "      <td>5.0</td>\n",
       "      <td>3.876403</td>\n",
       "    </tr>\n",
       "    <tr>\n",
       "      <th>6</th>\n",
       "      <td>4.0</td>\n",
       "      <td>4.047969</td>\n",
       "    </tr>\n",
       "    <tr>\n",
       "      <th>7</th>\n",
       "      <td>3.5</td>\n",
       "      <td>3.791021</td>\n",
       "    </tr>\n",
       "    <tr>\n",
       "      <th>8</th>\n",
       "      <td>3.5</td>\n",
       "      <td>3.657448</td>\n",
       "    </tr>\n",
       "    <tr>\n",
       "      <th>9</th>\n",
       "      <td>4.5</td>\n",
       "      <td>4.067966</td>\n",
       "    </tr>\n",
       "  </tbody>\n",
       "</table>\n",
       "</div>"
      ],
      "text/plain": [
       "   Actual  Predicted\n",
       "0     4.5   4.465631\n",
       "1     4.5   4.070120\n",
       "2     4.5   4.427217\n",
       "3     4.5   3.308061\n",
       "4     4.5   4.371673\n",
       "5     5.0   3.876403\n",
       "6     4.0   4.047969\n",
       "7     3.5   3.791021\n",
       "8     3.5   3.657448\n",
       "9     4.5   4.067966"
      ]
     },
     "execution_count": 406,
     "metadata": {},
     "output_type": "execute_result"
    }
   ],
   "source": [
    "df_error = pd.DataFrame({'Actual': np.array(y_test).flatten(), 'Predicted': test_pred.flatten()})\n",
    "df_error.head(10)"
   ]
  },
  {
   "cell_type": "markdown",
   "metadata": {},
   "source": [
    "Dibawah ini adalah visualisasi dari dataFrame tersebut yang merupakan hasil XGBoost Regressor, dimana saya menunjukkan perbandingan antara rating sesungguhnya dengan rating hasil prediksi."
   ]
  },
  {
   "cell_type": "code",
   "execution_count": 407,
   "metadata": {},
   "outputs": [
    {
     "data": {
      "image/png": "[encoded data removed]",
      "text/plain": [
       "<Figure size 1800x720 with 1 Axes>"
      ]
     },
     "metadata": {
      "needs_background": "light"
     },
     "output_type": "display_data"
    }
   ],
   "source": [
    "df_linreg = df_error[0:30]\n",
    "fig, ax = plt.subplots()\n",
    "df_linreg.plot(kind='bar',ax=ax, figsize=(25,10), color=['#d9455f', '#74d4c0'])\n",
    "ax.grid(axis='y')\n",
    "plt.ylabel('Average User Rating')\n",
    "plt.title(\"Comparison between actual data vs. predicted data on Average User Rating (top 30 row)\")\n",
    "plt.show(fig)"
   ]
  },
  {
   "cell_type": "markdown",
   "metadata": {},
   "source": [
    "<h2> Menyimpan model dari Machine Learning </h2>"
   ]
  },
  {
   "cell_type": "markdown",
   "metadata": {},
   "source": [
    "Selanjutnya saya akan menyimpan model dari XGB Regressor yang telah saya jalankan. Nantinya model ini dapat di-load dan digunakan tanpa harus melakukan training lagi. "
   ]
  },
  {
   "cell_type": "code",
   "execution_count": 410,
   "metadata": {},
   "outputs": [
    {
     "data": {
      "text/plain": [
       "['MachineLearningModel.pkl']"
      ]
     },
     "execution_count": 410,
     "metadata": {},
     "output_type": "execute_result"
    }
   ],
   "source": [
    "from sklearn.externals import joblib \n",
    "  \n",
    "# Save the model as a pickle in a file \n",
    "joblib.dump(xgr_best, 'MachineLearningModel.pkl') "
   ]
  }
 ],
 "metadata": {
  "instance_type": "ml.t3.medium",
  "kernelspec": {
   "display_name": "Python 3 (Data Science)",
   "language": "python",
   "name": "python3__SAGEMAKER_INTERNAL__arn:aws:sagemaker:us-east-1:081325390199:image/datascience-1.0"
  },
  "language_info": {
   "codemirror_mode": {
    "name": "ipython",
    "version": 3
   },
   "file_extension": ".py",
   "mimetype": "text/x-python",
   "name": "python",
   "nbconvert_exporter": "python",
   "pygments_lexer": "ipython3",
   "version": "3.7.6"
  }
 },
 "nbformat": 4,
 "nbformat_minor": 4
}
